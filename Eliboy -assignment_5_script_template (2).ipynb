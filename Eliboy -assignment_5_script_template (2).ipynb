{
 "cells": [
  {
   "cell_type": "markdown",
   "id": "c3e87412",
   "metadata": {},
   "source": [
    "## A script to classify and count 'active' and 'inactive' gridblocks in a discretized reservoir"
   ]
  },
  {
   "cell_type": "code",
   "execution_count": 41,
   "id": "a53afb20",
   "metadata": {},
   "outputs": [
    {
     "name": "stdin",
     "output_type": "stream",
     "text": [
      "Enter the number of rows in x-direction\n",
      " 4\n",
      "Enter the number of columns in y-direction\n",
      " 3\n",
      "Enter the number of layer\n",
      " 3\n"
     ]
    }
   ],
   "source": [
    "#################### Task 1 ############################\n",
    "    # Request for reservoir dimensions and discretization parameters\n",
    "nx = int(input('Enter the number of rows in x-direction\\n'))\n",
    "ny = int(input('Enter the number of columns in y-direction\\n'))\n",
    "nz = int(input('Enter the number of layer\\n'))"
   ]
  },
  {
   "cell_type": "code",
   "execution_count": 43,
   "id": "559de93e",
   "metadata": {},
   "outputs": [
    {
     "name": "stdin",
     "output_type": "stream",
     "text": [
      "Enter the permeability cut-off value 15\n"
     ]
    }
   ],
   "source": [
    "\n",
    "\n",
    "#################### Task 2 ############################\n",
    "    # Request for the cut-off value\n",
    "cut_off = int(input('Enter the permeability cut-off value'))\n",
    "\n"
   ]
  },
  {
   "cell_type": "code",
   "execution_count": 51,
   "id": "81bee451",
   "metadata": {},
   "outputs": [],
   "source": [
    "#################### Task 3 ############################\n",
    "    # Initialize counters\n",
    "n_active = 0\n",
    "n_inactive = 0\n"
   ]
  },
  {
   "cell_type": "code",
   "execution_count": null,
   "id": "1ea1d439-0050-48f8-bcfe-a78e42316271",
   "metadata": {},
   "outputs": [],
   "source": [
    "##### Task 4 ############################\n",
    "    # Loop through all blocks (nested loop)\n",
    "for k in range(0, nz+1):\n",
    "    # Initialize layer counter\n",
    "    n_active_layer = 0\n",
    "    print(f'Entering the values of layer {k+1}')\n",
    "    # two nested loops go here\n",
    "    for j in range (nx):\n",
    "        for i in range (ny):\n",
    "            perm = float(input(f'Enter the permeability value of {i+1}, {j+1}, {k+1}\\n'))\n",
    "            if perm >= cut_off:\n",
    "                n_active = n_active + 1\n",
    "                n_active_layer = n_active_layer + 1\n",
    "            else:\n",
    "                n_inactive = n_inactive + 1\n",
    "\n",
    "    # Print layer count\n",
    "    print(f'The number of active layer in layer {k+1} is {n_active_layer}')\n",
    "\n"
   ]
  },
  {
   "cell_type": "code",
   "execution_count": 72,
   "id": "ec00ce2a",
   "metadata": {},
   "outputs": [
    {
     "name": "stdout",
     "output_type": "stream",
     "text": [
      "The active blocks is 23\n",
      "The inactive blocks is 25\n",
      "The percentage of active blocks is 47.91666666666667\n"
     ]
    }
   ],
   "source": [
    "#################### Task 5 ############################\n",
    "    # Print overall counts\n",
    "total_gridblocks = n_active + n_inactive\n",
    "percent_active =(n_active/total_gridblocks)*100\n",
    "# Print 'active'\n",
    "print(f'The active blocks is {n_active}')\n",
    "\n",
    "# Print 'inactive'\n",
    "print(f'The inactive blocks is {n_inactive}')\n",
    "\n",
    "print(f'The percentage of active blocks is {percent_active}')\n",
    "\n",
    "\n"
   ]
  },
  {
   "cell_type": "code",
   "execution_count": null,
   "id": "2c4b4c20-856f-466b-b7a6-105dacf762f6",
   "metadata": {},
   "outputs": [],
   "source": []
  }
 ],
 "metadata": {
  "kernelspec": {
   "display_name": "Python 3 (ipykernel)",
   "language": "python",
   "name": "python3"
  },
  "language_info": {
   "codemirror_mode": {
    "name": "ipython",
    "version": 3
   },
   "file_extension": ".py",
   "mimetype": "text/x-python",
   "name": "python",
   "nbconvert_exporter": "python",
   "pygments_lexer": "ipython3",
   "version": "3.12.7"
  }
 },
 "nbformat": 4,
 "nbformat_minor": 5
}
